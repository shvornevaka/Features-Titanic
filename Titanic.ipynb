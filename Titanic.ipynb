{
 "cells": [
  {
   "cell_type": "markdown",
   "metadata": {},
   "source": [
    "#### Data Dictionary\n",
    "\n",
    "Survival  (0 = No, 1 = Yes)    \n",
    "Pclass    (1 = 1st Upper, 2 = 2nd Middle, 3 = 3rd Lower)   \n",
    "Sex       (gender)    \n",
    "Age       (in years)     \n",
    "Sibsp     (of siblings / spouses aboard the Titanic)      \n",
    "Parch     (of parents / children aboard the Titanic)      \n",
    "Ticket    (ticket number)      \n",
    "Fare      (passenger fare)     \n",
    "Cabin     (cabin number)      \n",
    "Embarked  (C = Cherbourg, Q = Queenstown, S = Southampton)      \n",
    "\n",
    "#### Variable Notes\n",
    "\n",
    "sibsp:   \n",
    "Sibling = brother, sister, stepbrother, stepsister   \n",
    "Spouse = husband, wife (mistresses and fiancés were ignored)   \n",
    "\n",
    "parch:    \n",
    "Parent = mother, father   \n",
    "Child = daughter, son, stepdaughter, stepson   \n",
    "Some children travelled only with a nanny, therefore parch=0 for them.   \n",
    "\n",
    "train.csv - training set - тренировочный набор данных. В них известен ответ - survival   \n",
    "test.csv - test set - тестовый набор данных. Ответ не известен. На них проверяется качество построенной модели.   \n",
    "gender_submission.csv - пример формата данных, которые нужно отправить на kaggle.   "
   ]
  },
  {
   "cell_type": "markdown",
   "metadata": {},
   "source": [
    "#### Алгоритм работы:  \n",
    "\n",
    "* изучаем и преобразуем данные из train.csv\n",
    "* строим модель и подбираем параметры, выбираем лучшую модель на преобразованных данных из train.csv\n",
    "* фиксируем метод преобразований и модель\n",
    "* применяем те же самые преобразования на test.csv  \n",
    "* применяем модель на test.csv\n",
    "* результат применения сохраняем файл в таком же формате как и в gender_submission.csv\n",
    "* отправляем на kaggle\n",
    "* повторяем все пункты (помним, что нельзя подбирать параметры модели делая submit - высокий риск переобучиться)"
   ]
  },
  {
   "cell_type": "code",
   "execution_count": 17,
   "metadata": {
    "collapsed": false
   },
   "outputs": [],
   "source": [
    "from __future__ import print_function\n",
    "from collections import defaultdict\n",
    "import pandas as pd\n",
    "import numpy as np\n",
    "import matplotlib\n",
    "import matplotlib.pyplot as plt\n",
    "import matplotlib.cm as cm\n",
    "import seaborn as sns\n",
    "import pandas_profiling\n",
    "\n",
    "from sklearn import preprocessing\n",
    "le = preprocessing.LabelEncoder()\n",
    "\n",
    "%matplotlib inline"
   ]
  },
  {
   "cell_type": "markdown",
   "metadata": {},
   "source": [
    "#### Загружаем данные"
   ]
  },
  {
   "cell_type": "code",
   "execution_count": 3,
   "metadata": {
    "collapsed": false
   },
   "outputs": [
    {
     "data": {
      "text/html": [
       "<div>\n",
       "<style scoped>\n",
       "    .dataframe tbody tr th:only-of-type {\n",
       "        vertical-align: middle;\n",
       "    }\n",
       "\n",
       "    .dataframe tbody tr th {\n",
       "        vertical-align: top;\n",
       "    }\n",
       "\n",
       "    .dataframe thead th {\n",
       "        text-align: right;\n",
       "    }\n",
       "</style>\n",
       "<table border=\"1\" class=\"dataframe\">\n",
       "  <thead>\n",
       "    <tr style=\"text-align: right;\">\n",
       "      <th></th>\n",
       "      <th>PassengerId</th>\n",
       "      <th>Survived</th>\n",
       "      <th>Pclass</th>\n",
       "      <th>Name</th>\n",
       "      <th>Sex</th>\n",
       "      <th>Age</th>\n",
       "      <th>SibSp</th>\n",
       "      <th>Parch</th>\n",
       "      <th>Ticket</th>\n",
       "      <th>Fare</th>\n",
       "      <th>Cabin</th>\n",
       "      <th>Embarked</th>\n",
       "    </tr>\n",
       "  </thead>\n",
       "  <tbody>\n",
       "    <tr>\n",
       "      <th>0</th>\n",
       "      <td>1</td>\n",
       "      <td>0</td>\n",
       "      <td>3</td>\n",
       "      <td>Braund, Mr. Owen Harris</td>\n",
       "      <td>male</td>\n",
       "      <td>22.0</td>\n",
       "      <td>1</td>\n",
       "      <td>0</td>\n",
       "      <td>A/5 21171</td>\n",
       "      <td>7.2500</td>\n",
       "      <td>NaN</td>\n",
       "      <td>S</td>\n",
       "    </tr>\n",
       "    <tr>\n",
       "      <th>1</th>\n",
       "      <td>2</td>\n",
       "      <td>1</td>\n",
       "      <td>1</td>\n",
       "      <td>Cumings, Mrs. John Bradley (Florence Briggs Th...</td>\n",
       "      <td>female</td>\n",
       "      <td>38.0</td>\n",
       "      <td>1</td>\n",
       "      <td>0</td>\n",
       "      <td>PC 17599</td>\n",
       "      <td>71.2833</td>\n",
       "      <td>C85</td>\n",
       "      <td>C</td>\n",
       "    </tr>\n",
       "    <tr>\n",
       "      <th>2</th>\n",
       "      <td>3</td>\n",
       "      <td>1</td>\n",
       "      <td>3</td>\n",
       "      <td>Heikkinen, Miss. Laina</td>\n",
       "      <td>female</td>\n",
       "      <td>26.0</td>\n",
       "      <td>0</td>\n",
       "      <td>0</td>\n",
       "      <td>STON/O2. 3101282</td>\n",
       "      <td>7.9250</td>\n",
       "      <td>NaN</td>\n",
       "      <td>S</td>\n",
       "    </tr>\n",
       "  </tbody>\n",
       "</table>\n",
       "</div>"
      ],
      "text/plain": [
       "   PassengerId  Survived  Pclass  \\\n",
       "0            1         0       3   \n",
       "1            2         1       1   \n",
       "2            3         1       3   \n",
       "\n",
       "                                                Name     Sex   Age  SibSp  \\\n",
       "0                            Braund, Mr. Owen Harris    male  22.0      1   \n",
       "1  Cumings, Mrs. John Bradley (Florence Briggs Th...  female  38.0      1   \n",
       "2                             Heikkinen, Miss. Laina  female  26.0      0   \n",
       "\n",
       "   Parch            Ticket     Fare Cabin Embarked  \n",
       "0      0         A/5 21171   7.2500   NaN        S  \n",
       "1      0          PC 17599  71.2833   C85        C  \n",
       "2      0  STON/O2. 3101282   7.9250   NaN        S  "
      ]
     },
     "execution_count": 3,
     "metadata": {},
     "output_type": "execute_result"
    }
   ],
   "source": [
    "df_train = pd.read_csv('train.csv', na_values='NaN')\n",
    "df_train[0:3]"
   ]
  },
  {
   "cell_type": "code",
   "execution_count": 4,
   "metadata": {
    "collapsed": false
   },
   "outputs": [
    {
     "data": {
      "text/html": [
       "<div>\n",
       "<style scoped>\n",
       "    .dataframe tbody tr th:only-of-type {\n",
       "        vertical-align: middle;\n",
       "    }\n",
       "\n",
       "    .dataframe tbody tr th {\n",
       "        vertical-align: top;\n",
       "    }\n",
       "\n",
       "    .dataframe thead th {\n",
       "        text-align: right;\n",
       "    }\n",
       "</style>\n",
       "<table border=\"1\" class=\"dataframe\">\n",
       "  <thead>\n",
       "    <tr style=\"text-align: right;\">\n",
       "      <th></th>\n",
       "      <th>PassengerId</th>\n",
       "      <th>Pclass</th>\n",
       "      <th>Name</th>\n",
       "      <th>Sex</th>\n",
       "      <th>Age</th>\n",
       "      <th>SibSp</th>\n",
       "      <th>Parch</th>\n",
       "      <th>Ticket</th>\n",
       "      <th>Fare</th>\n",
       "      <th>Cabin</th>\n",
       "      <th>Embarked</th>\n",
       "    </tr>\n",
       "  </thead>\n",
       "  <tbody>\n",
       "    <tr>\n",
       "      <th>0</th>\n",
       "      <td>892</td>\n",
       "      <td>3</td>\n",
       "      <td>Kelly, Mr. James</td>\n",
       "      <td>male</td>\n",
       "      <td>34.5</td>\n",
       "      <td>0</td>\n",
       "      <td>0</td>\n",
       "      <td>330911</td>\n",
       "      <td>7.8292</td>\n",
       "      <td>NaN</td>\n",
       "      <td>Q</td>\n",
       "    </tr>\n",
       "    <tr>\n",
       "      <th>1</th>\n",
       "      <td>893</td>\n",
       "      <td>3</td>\n",
       "      <td>Wilkes, Mrs. James (Ellen Needs)</td>\n",
       "      <td>female</td>\n",
       "      <td>47.0</td>\n",
       "      <td>1</td>\n",
       "      <td>0</td>\n",
       "      <td>363272</td>\n",
       "      <td>7.0000</td>\n",
       "      <td>NaN</td>\n",
       "      <td>S</td>\n",
       "    </tr>\n",
       "    <tr>\n",
       "      <th>2</th>\n",
       "      <td>894</td>\n",
       "      <td>2</td>\n",
       "      <td>Myles, Mr. Thomas Francis</td>\n",
       "      <td>male</td>\n",
       "      <td>62.0</td>\n",
       "      <td>0</td>\n",
       "      <td>0</td>\n",
       "      <td>240276</td>\n",
       "      <td>9.6875</td>\n",
       "      <td>NaN</td>\n",
       "      <td>Q</td>\n",
       "    </tr>\n",
       "  </tbody>\n",
       "</table>\n",
       "</div>"
      ],
      "text/plain": [
       "   PassengerId  Pclass                              Name     Sex   Age  SibSp  \\\n",
       "0          892       3                  Kelly, Mr. James    male  34.5      0   \n",
       "1          893       3  Wilkes, Mrs. James (Ellen Needs)  female  47.0      1   \n",
       "2          894       2         Myles, Mr. Thomas Francis    male  62.0      0   \n",
       "\n",
       "   Parch  Ticket    Fare Cabin Embarked  \n",
       "0      0  330911  7.8292   NaN        Q  \n",
       "1      0  363272  7.0000   NaN        S  \n",
       "2      0  240276  9.6875   NaN        Q  "
      ]
     },
     "execution_count": 4,
     "metadata": {},
     "output_type": "execute_result"
    }
   ],
   "source": [
    "df_test = pd.read_csv('test.csv')\n",
    "df_test[0:3]"
   ]
  },
  {
   "cell_type": "markdown",
   "metadata": {},
   "source": [
    "#### Воспользуемся библиотекой pandas_profiling "
   ]
  },
  {
   "cell_type": "markdown",
   "metadata": {
    "collapsed": false,
    "scrolled": true
   },
   "source": [
    "pandas_profiling.ProfileReport(df_train)"
   ]
  },
  {
   "cell_type": "markdown",
   "metadata": {},
   "source": [
    " ### План по преобразованию признаков\n",
    " \n",
    "  * Sex - One Hot Encoder  \n",
    "  * Создать новый признак - сколько всего родственников на борту\n",
    "  * Создать новый признак - человек едет один\n",
    "  * Добавить колонку едет с мамой(для детей до 15 лет)/едет с ребенком(для женщин старше 20)\n",
    "  * Создать новый признак Title\n",
    "  * Title - One Hot Encoder\n",
    "  * Заменить пропущенные значения Age на медиану по титулу\n",
    "  * Добавить дополнительную переменную median_Age в зависимости от тутула\n",
    "  * Ticket - LabelEncoder\n",
    "  * Embarkment - заменить пропуски на 'U' и LabelEncoder\n",
    "  * Embarkment - One Hot Encoder\n",
    "  * Cabin - заменить пропуски на 'U' и LabelEncoder\n",
    "  * Cabin - One Hot Encoder\n",
    "  * Fare - заменить пропуски на медиану \n",
    "  * Создать новые признаки - нормализация medianAge и medianFare\n",
    "  * Удалить категориальные признаки\n",
    " "
   ]
  },
  {
   "cell_type": "code",
   "execution_count": 6,
   "metadata": {
    "collapsed": true
   },
   "outputs": [],
   "source": [
    "def normalization(var) :\n",
    "    norm = (var - var.mean()) / var.std()\n",
    "    return norm"
   ]
  },
  {
   "cell_type": "code",
   "execution_count": 7,
   "metadata": {
    "collapsed": false
   },
   "outputs": [],
   "source": [
    "def transform_data(data):\n",
    "  \n",
    "    # Sex - One Hot Encoder\n",
    "    gender_dummies = pd.get_dummies(data[\"Sex\"], dummy_na=False).astype(int)\n",
    "    data = pd.concat([data, gender_dummies], axis=1)\n",
    "    \n",
    "    # Количество родственников на борту\n",
    "    data[\"Relatives\"] = data[\"Parch\"] + data[\"SibSp\"]\n",
    "\n",
    "    # Человек-одиночка?\n",
    "    data[\"Single\"] = data[\"Relatives\"].apply(lambda r: 1 if r == 0 else 0)\n",
    "    \n",
    "    # У человека есть на борту мама или ребенок\n",
    "    child = data[(data.Age < 15) & ((data[\"Parch\"] + data[\"SibSp\"]) > 0)] \n",
    "    adult_women = data[(data.Age > 20) & ((data[\"Parch\"] + data[\"SibSp\"]) > 0) & (data['Sex'] == 'female')]\n",
    "    relatives = pd.merge(child,adult_women, on=['Ticket'], how='inner')\n",
    "    child = relatives['PassengerId_x']  \n",
    "    adult_women = relatives['PassengerId_y']\n",
    "    Pid = pd.concat([child, adult_women]).drop_duplicates()\n",
    "    Pid = pd.DataFrame(data = Pid)\n",
    "    Pid['PassengerId'] = Pid[0]\n",
    "    Pid['mother_child'] = 1\n",
    "    mother_child = Pid[['PassengerId','mother_child']]\n",
    "    data = pd.merge(data,mother_child, on=['PassengerId'], how='left')\n",
    "    data['mother_child'].fillna(0,inplace=True)\n",
    "    \n",
    "    # Добавим дополнительную колонку medianAge в зависимости от титула пассажира\n",
    "    data['Title'] = data['Name'].map(lambda name:name.split(',')[1].split('.')[0].strip())\n",
    "    \n",
    "    # map \n",
    "    Title_Dictionary = {\n",
    "                        \"Capt\":       \"Officer\",\n",
    "                        \"Col\":        \"Officer\",\n",
    "                        \"Major\":      \"Officer\",\n",
    "                        \"Jonkheer\":   \"High title\",\n",
    "                        \"Don\":        \"High title\",\n",
    "                        \"Sir\" :       \"High title\",\n",
    "                        \"Dr\":         \"Dr\",\n",
    "                        \"Rev\":        \"Rev\",\n",
    "                        \"the Countess\":\"High title\",\n",
    "                        \"Dona\":       \"High title\",\n",
    "                        \"Mme\":        \"Mrs\",\n",
    "                        \"Mlle\":       \"Miss\",\n",
    "                        \"Ms\":         \"Mrs\",\n",
    "                        \"Mr\" :        \"Mr\",\n",
    "                        \"Mrs\" :       \"Mrs\",\n",
    "                        \"Miss\" :      \"Miss\",\n",
    "                        \"Master\" :    \"Master\",\n",
    "                        \"Lady\" :      \"High title\"\n",
    "\n",
    "                        }\n",
    "    data['Title'] = data.Title.map(Title_Dictionary)\n",
    "    data['medianAge'] = data.groupby('Title')['Age'].transform('median')\n",
    "    # Title - One Hot Encoder\n",
    "    title_dummies = pd.get_dummies(data[\"Title\"], dummy_na=False).astype(int)\n",
    "    data = pd.concat([data, title_dummies], axis=1)\n",
    "    \n",
    "    \n",
    "     # Embarkment - замена \n",
    "    embarkments = {\"U\": 0, \"S\": 1, \"C\": 2, \"Q\": 3}\n",
    "    data[\"Embarked_R\"] = data[\"Embarked\"].fillna(\"U\").apply(lambda e: embarkments.get(e))\n",
    "\n",
    "    # Embarkment - One Hot Encoder\n",
    "    embarkment_dummies = pd.get_dummies(data[\"Embarked\"].fillna(\"U\").apply(lambda c: c[0]), prefix=\"Embarked\", dummy_na=False).astype(int)\n",
    "    data = pd.concat([data, embarkment_dummies], axis=1)\n",
    "    \n",
    "    # Cabin - замена\n",
    "    cabin = {\"U\": 0, \"A\": 1, \"B\": 2, \"C\": 3, \"D\": 4, \"E\": 5, \"F\": 6, \"G\": 7, \"T\": 8}\n",
    "    data[\"Cabin_R\"] = data[\"Cabin\"].fillna(\"U\").apply(lambda c: cabin.get(c[0], -1))\n",
    "\n",
    "    # Cabin - One Hot Encoder\n",
    "    cabin_dummies = pd.get_dummies(data[\"Cabin\"].fillna(\"U\").apply(lambda c: c[0]), prefix=\"cabin\", dummy_na=False).astype(int)\n",
    "    data = pd.concat([data, cabin_dummies], axis=1)\n",
    "    \n",
    "    # Ticket Label Encoder Title, Ticket\n",
    "    le.fit(data['Title'])\n",
    "    data['Title'] = (le.transform(data['Title']))\n",
    "    le.fit(data['Ticket'])\n",
    "    data['Ticket'] = (le.transform(data['Ticket']))\n",
    "    \n",
    "    # Fare median\n",
    "    data['medianFare'] = data['Fare'].fillna(data['Fare'].median())\n",
    "    \n",
    "    # Normalisation medianAge, medianFare\n",
    "    data[\"medianAge\"] = normalization(data[\"medianAge\"])\n",
    "    data[\"medianFare\"] = normalization(data[\"medianFare\"])\n",
    "    data =  data.drop( ['Embarked','Name','Sex','Cabin','Fare','Age'],axis=1)\n",
    "    \n",
    "    return data"
   ]
  },
  {
   "cell_type": "markdown",
   "metadata": {},
   "source": [
    "#### Обучение модели и Future Selection"
   ]
  },
  {
   "cell_type": "markdown",
   "metadata": {},
   "source": [
    " * KNN\n",
    " * Logistic Regression\n",
    " * Random Forest"
   ]
  },
  {
   "cell_type": "code",
   "execution_count": 8,
   "metadata": {
    "collapsed": false
   },
   "outputs": [],
   "source": [
    "transform_train = transform_data(df_train)\n",
    "transform_test = transform_data(df_test)"
   ]
  },
  {
   "cell_type": "code",
   "execution_count": 9,
   "metadata": {
    "collapsed": false
   },
   "outputs": [],
   "source": [
    "X = transform_train.drop(('Survived'), axis=1)  \n",
    "y = transform_train['Survived']\n",
    "feature_names = X.columns"
   ]
  },
  {
   "cell_type": "markdown",
   "metadata": {},
   "source": [
    "#### Для отбора признаков используем DecisionTreeClassifier"
   ]
  },
  {
   "cell_type": "code",
   "execution_count": 10,
   "metadata": {
    "collapsed": false
   },
   "outputs": [
    {
     "data": {
      "text/plain": [
       "DecisionTreeClassifier(class_weight=None, criterion='gini', max_depth=None,\n",
       "            max_features=None, max_leaf_nodes=None,\n",
       "            min_impurity_decrease=0.0, min_impurity_split=None,\n",
       "            min_samples_leaf=1, min_samples_split=2,\n",
       "            min_weight_fraction_leaf=0.0, presort=False, random_state=241,\n",
       "            splitter='best')"
      ]
     },
     "execution_count": 10,
     "metadata": {},
     "output_type": "execute_result"
    }
   ],
   "source": [
    "from sklearn.tree import DecisionTreeClassifier, export_graphviz\n",
    "dtc = DecisionTreeClassifier( random_state=241)\n",
    "dtc.fit(X, y)"
   ]
  },
  {
   "cell_type": "code",
   "execution_count": 11,
   "metadata": {
    "collapsed": false
   },
   "outputs": [
    {
     "name": "stdout",
     "output_type": "stream",
     "text": [
      "Feature importances:\n",
      " 1. feature 'Mr   ' (0.3016)\n",
      " 2. feature 'Ticket' (0.1744)\n",
      " 3. feature 'PassengerId' (0.1657)\n",
      " 4. feature 'medianFare' (0.1326)\n",
      " 5. feature 'Relatives' (0.0822)\n",
      " 6. feature 'medianAge' (0.0351)\n",
      " 7. feature 'Pclass' (0.0341)\n",
      " 8. feature 'cabin_E' (0.0123)\n",
      " 9. feature 'Parch' (0.0097)\n",
      "10. feature 'Single' (0.0067)\n",
      "11. feature 'Title' (0.0057)\n",
      "12. feature 'cabin_A' (0.0050)\n",
      "13. feature 'cabin_U' (0.0049)\n",
      "14. feature 'cabin_D' (0.0048)\n",
      "15. feature 'SibSp' (0.0047)\n",
      "16. feature 'cabin_C' (0.0044)\n",
      "17. feature 'Embarked_S' (0.0037)\n",
      "18. feature 'Cabin_R' (0.0034)\n",
      "19. feature 'Embarked_Q' (0.0021)\n",
      "20. feature 'Rev  ' (0.0020)\n",
      "21. feature 'mother_child' (0.0017)\n",
      "22. feature 'female' (0.0014)\n",
      "23. feature 'Embarked_C' (0.0012)\n",
      "24. feature 'Embarked_R' (0.0005)\n",
      "25. feature 'male ' (0.0000)\n",
      "26. feature 'cabin_T' (0.0000)\n",
      "27. feature 'cabin_F' (0.0000)\n",
      "28. feature 'Miss ' (0.0000)\n",
      "29. feature 'Dr   ' (0.0000)\n",
      "30. feature 'High title' (0.0000)\n",
      "31. feature 'Master' (0.0000)\n",
      "32. feature 'cabin_G' (0.0000)\n",
      "33. feature 'Officer' (0.0000)\n",
      "34. feature 'Embarked_U' (0.0000)\n",
      "35. feature 'cabin_B' (0.0000)\n",
      "36. feature 'Mrs  ' (0.0000)\n"
     ]
    }
   ],
   "source": [
    "importance = dtc.feature_importances_\n",
    "indices = np.argsort(importance)[::-1]\n",
    "\n",
    "print(\"Feature importances:\")\n",
    "for f, idx in enumerate(indices):\n",
    "    print(\"{:2d}. feature '{:5s}' ({:.4f})\".format(f + 1, feature_names[idx], importance[idx]))"
   ]
  },
  {
   "cell_type": "code",
   "execution_count": 18,
   "metadata": {
    "collapsed": false
   },
   "outputs": [
    {
     "data": {
      "text/plain": [
       "(-1, 36)"
      ]
     },
     "execution_count": 18,
     "metadata": {},
     "output_type": "execute_result"
    },
    {
     "data": {
      "image/png": "[encoded data removed]",
      "text/plain": [
       "<matplotlib.figure.Figure at 0x1a1af1cfd0>"
      ]
     },
     "metadata": {},
     "output_type": "display_data"
    }
   ],
   "source": [
    "d_first = 36\n",
    "plt.figure(figsize=(8, 8))\n",
    "plt.title(\"DecisionTreeClassifier Feature importances\")\n",
    "plt.bar(range(d_first), importance[indices[:d_first]], align='center')\n",
    "plt.xticks(range(d_first), np.array(feature_names)[indices[:d_first]], rotation=90)\n",
    "plt.xlim([-1, d_first])"
   ]
  },
  {
   "cell_type": "markdown",
   "metadata": {},
   "source": [
    "Для обучения модели возьмем признаки с важностью выше 0.0015"
   ]
  },
  {
   "cell_type": "code",
   "execution_count": 24,
   "metadata": {
    "collapsed": false
   },
   "outputs": [],
   "source": [
    "X_train = X[['Mr','Ticket','medianFare','Relatives', 'Pclass','medianAge','cabin_E','SibSp','Cabin_R','Embarked_Q','cabin_U','cabin_A','cabin_D','Title','cabin_C','female','Parch','Miss','mother_child']]\n",
    "X_test = transform_test[['Mr','Ticket','medianFare','Relatives', 'Pclass','medianAge','cabin_E','SibSp','Cabin_R','Embarked_Q','cabin_U','cabin_A','cabin_D','Title','cabin_C','female','Parch','Miss','mother_child']]"
   ]
  },
  {
   "cell_type": "code",
   "execution_count": 26,
   "metadata": {
    "collapsed": false
   },
   "outputs": [],
   "source": [
    "from sklearn.neighbors import KNeighborsClassifier\n",
    "from sklearn.linear_model import LogisticRegression\n",
    "from sklearn.ensemble import RandomForestClassifier\n",
    "from sklearn import model_selection"
   ]
  },
  {
   "cell_type": "code",
   "execution_count": 41,
   "metadata": {
    "collapsed": true
   },
   "outputs": [],
   "source": [
    "# initialise classifiers\n",
    "knn = KNeighborsClassifier()\n",
    "logr = LogisticRegression()\n",
    "rf = RandomForestClassifier(n_estimators=400, \n",
    "                            random_state=11,\n",
    "                            criterion='gini')"
   ]
  },
  {
   "cell_type": "code",
   "execution_count": 44,
   "metadata": {
    "collapsed": false
   },
   "outputs": [
    {
     "name": "stdout",
     "output_type": "stream",
     "text": [
      "Accuracy: 0.71 +/- 0.09 (KNN)\n",
      "Accuracy: 0.82 +/- 0.08 (Logistic Regression)\n",
      "Accuracy: 0.81 +/- 0.08 (Random Forest)\n"
     ]
    }
   ],
   "source": [
    "# score using cross validation\n",
    "clf_list = [knn, logr, rf]\n",
    "name_list = ['KNN','Logistic Regression','Random Forest']\n",
    "\n",
    "for clf, name in zip(clf_list,name_list) :\n",
    "    scores = model_selection.cross_val_score(clf, X_train, y, cv=10)\n",
    "    print(\"Accuracy: %0.2f +/- %0.2f (%s)\" % (scores.mean(), scores.std()*2, name))"
   ]
  },
  {
   "cell_type": "markdown",
   "metadata": {},
   "source": [
    "Засабмитила все, лучше всего предсказывает всё таки Random Forest"
   ]
  },
  {
   "cell_type": "markdown",
   "metadata": {},
   "source": [
    "#### Random Forest"
   ]
  },
  {
   "cell_type": "code",
   "execution_count": 43,
   "metadata": {
    "collapsed": false
   },
   "outputs": [],
   "source": [
    "rf.fit(X_train, y)\n",
    "\n",
    "prediction_rf = rf.predict(X_test)\n",
    "df_predicted = pd.DataFrame({'PassengerId': transform_test['PassengerId'], 'Survived': prediction_rf})\n",
    "df_predicted.to_csv('rf.csv', sep=',', index=False)"
   ]
  },
  {
   "cell_type": "markdown",
   "metadata": {},
   "source": [
    "0.79904\n",
    "https://www.kaggle.com/kateshvorneva"
   ]
  },
  {
   "cell_type": "code",
   "execution_count": null,
   "metadata": {
    "collapsed": true
   },
   "outputs": [],
   "source": []
  }
 ],
 "metadata": {
  "anaconda-cloud": {},
  "kernelspec": {
   "display_name": "Python [Root]",
   "language": "python",
   "name": "Python [Root]"
  },
  "language_info": {
   "codemirror_mode": {
    "name": "ipython",
    "version": 3
   },
   "file_extension": ".py",
   "mimetype": "text/x-python",
   "name": "python",
   "nbconvert_exporter": "python",
   "pygments_lexer": "ipython3",
   "version": "3.5.2"
  }
 },
 "nbformat": 4,
 "nbformat_minor": 2
}
